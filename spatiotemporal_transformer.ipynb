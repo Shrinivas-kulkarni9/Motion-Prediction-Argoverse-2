{
 "cells": [
  {
   "cell_type": "code",
   "execution_count": 1,
   "id": "cfaf62e0",
   "metadata": {
    "_cell_guid": "b1076dfc-b9ad-4769-8c92-a6c4dae69d19",
    "_uuid": "8f2839f25d086af736a60e9eeb907d3b93b6e0e5",
    "execution": {
     "iopub.execute_input": "2025-06-02T02:17:45.523500Z",
     "iopub.status.busy": "2025-06-02T02:17:45.523237Z",
     "iopub.status.idle": "2025-06-02T02:17:50.635488Z",
     "shell.execute_reply": "2025-06-02T02:17:50.634538Z"
    },
    "papermill": {
     "duration": 5.118021,
     "end_time": "2025-06-02T02:17:50.636769",
     "exception": false,
     "start_time": "2025-06-02T02:17:45.518748",
     "status": "completed"
    },
    "tags": []
   },
   "outputs": [
    {
     "name": "stdout",
     "output_type": "stream",
     "text": [
      "Collecting torch_geometric\r\n",
      "  Downloading torch_geometric-2.6.1-py3-none-any.whl.metadata (63 kB)\r\n",
      "\u001b[2K     \u001b[90m━━━━━━━━━━━━━━━━━━━━━━━━━━━━━━━━━━━━━━━━\u001b[0m \u001b[32m63.1/63.1 kB\u001b[0m \u001b[31m3.4 MB/s\u001b[0m eta \u001b[36m0:00:00\u001b[0m\r\n",
      "\u001b[?25hRequirement already satisfied: aiohttp in /usr/local/lib/python3.11/dist-packages (from torch_geometric) (3.11.18)\r\n",
      "Requirement already satisfied: fsspec in /usr/local/lib/python3.11/dist-packages (from torch_geometric) (2025.3.2)\r\n",
      "Requirement already satisfied: jinja2 in /usr/local/lib/python3.11/dist-packages (from torch_geometric) (3.1.6)\r\n",
      "Requirement already satisfied: numpy in /usr/local/lib/python3.11/dist-packages (from torch_geometric) (1.26.4)\r\n",
      "Requirement already satisfied: psutil>=5.8.0 in /usr/local/lib/python3.11/dist-packages (from torch_geometric) (7.0.0)\r\n",
      "Requirement already satisfied: pyparsing in /usr/local/lib/python3.11/dist-packages (from torch_geometric) (3.0.9)\r\n",
      "Requirement already satisfied: requests in /usr/local/lib/python3.11/dist-packages (from torch_geometric) (2.32.3)\r\n",
      "Requirement already satisfied: tqdm in /usr/local/lib/python3.11/dist-packages (from torch_geometric) (4.67.1)\r\n",
      "Requirement already satisfied: aiohappyeyeballs>=2.3.0 in /usr/local/lib/python3.11/dist-packages (from aiohttp->torch_geometric) (2.6.1)\r\n",
      "Requirement already satisfied: aiosignal>=1.1.2 in /usr/local/lib/python3.11/dist-packages (from aiohttp->torch_geometric) (1.3.2)\r\n",
      "Requirement already satisfied: attrs>=17.3.0 in /usr/local/lib/python3.11/dist-packages (from aiohttp->torch_geometric) (25.3.0)\r\n",
      "Requirement already satisfied: frozenlist>=1.1.1 in /usr/local/lib/python3.11/dist-packages (from aiohttp->torch_geometric) (1.6.0)\r\n",
      "Requirement already satisfied: multidict<7.0,>=4.5 in /usr/local/lib/python3.11/dist-packages (from aiohttp->torch_geometric) (6.4.3)\r\n",
      "Requirement already satisfied: propcache>=0.2.0 in /usr/local/lib/python3.11/dist-packages (from aiohttp->torch_geometric) (0.3.1)\r\n",
      "Requirement already satisfied: yarl<2.0,>=1.17.0 in /usr/local/lib/python3.11/dist-packages (from aiohttp->torch_geometric) (1.20.0)\r\n",
      "Requirement already satisfied: MarkupSafe>=2.0 in /usr/local/lib/python3.11/dist-packages (from jinja2->torch_geometric) (3.0.2)\r\n",
      "Requirement already satisfied: mkl_fft in /usr/local/lib/python3.11/dist-packages (from numpy->torch_geometric) (1.3.8)\r\n",
      "Requirement already satisfied: mkl_random in /usr/local/lib/python3.11/dist-packages (from numpy->torch_geometric) (1.2.4)\r\n",
      "Requirement already satisfied: mkl_umath in /usr/local/lib/python3.11/dist-packages (from numpy->torch_geometric) (0.1.1)\r\n",
      "Requirement already satisfied: mkl in /usr/local/lib/python3.11/dist-packages (from numpy->torch_geometric) (2025.1.0)\r\n",
      "Requirement already satisfied: tbb4py in /usr/local/lib/python3.11/dist-packages (from numpy->torch_geometric) (2022.1.0)\r\n",
      "Requirement already satisfied: mkl-service in /usr/local/lib/python3.11/dist-packages (from numpy->torch_geometric) (2.4.1)\r\n",
      "Requirement already satisfied: charset-normalizer<4,>=2 in /usr/local/lib/python3.11/dist-packages (from requests->torch_geometric) (3.4.2)\r\n",
      "Requirement already satisfied: idna<4,>=2.5 in /usr/local/lib/python3.11/dist-packages (from requests->torch_geometric) (3.10)\r\n",
      "Requirement already satisfied: urllib3<3,>=1.21.1 in /usr/local/lib/python3.11/dist-packages (from requests->torch_geometric) (2.4.0)\r\n",
      "Requirement already satisfied: certifi>=2017.4.17 in /usr/local/lib/python3.11/dist-packages (from requests->torch_geometric) (2025.4.26)\r\n",
      "Requirement already satisfied: intel-openmp<2026,>=2024 in /usr/local/lib/python3.11/dist-packages (from mkl->numpy->torch_geometric) (2024.2.0)\r\n",
      "Requirement already satisfied: tbb==2022.* in /usr/local/lib/python3.11/dist-packages (from mkl->numpy->torch_geometric) (2022.1.0)\r\n",
      "Requirement already satisfied: tcmlib==1.* in /usr/local/lib/python3.11/dist-packages (from tbb==2022.*->mkl->numpy->torch_geometric) (1.3.0)\r\n",
      "Requirement already satisfied: intel-cmplr-lib-rt in /usr/local/lib/python3.11/dist-packages (from mkl_umath->numpy->torch_geometric) (2024.2.0)\r\n",
      "Requirement already satisfied: intel-cmplr-lib-ur==2024.2.0 in /usr/local/lib/python3.11/dist-packages (from intel-openmp<2026,>=2024->mkl->numpy->torch_geometric) (2024.2.0)\r\n",
      "Downloading torch_geometric-2.6.1-py3-none-any.whl (1.1 MB)\r\n",
      "\u001b[2K   \u001b[90m━━━━━━━━━━━━━━━━━━━━━━━━━━━━━━━━━━━━━━━━\u001b[0m \u001b[32m1.1/1.1 MB\u001b[0m \u001b[31m35.1 MB/s\u001b[0m eta \u001b[36m0:00:00\u001b[0m\r\n",
      "\u001b[?25hInstalling collected packages: torch_geometric\r\n",
      "Successfully installed torch_geometric-2.6.1\r\n",
      "Note: you may need to restart the kernel to use updated packages.\n"
     ]
    }
   ],
   "source": [
    "pip install torch_geometric"
   ]
  },
  {
   "cell_type": "code",
   "execution_count": 2,
   "id": "3b41fe85",
   "metadata": {
    "execution": {
     "iopub.execute_input": "2025-06-02T02:17:50.644894Z",
     "iopub.status.busy": "2025-06-02T02:17:50.644439Z",
     "iopub.status.idle": "2025-06-02T02:18:03.986439Z",
     "shell.execute_reply": "2025-06-02T02:18:03.985840Z"
    },
    "papermill": {
     "duration": 13.34723,
     "end_time": "2025-06-02T02:18:03.987734",
     "exception": false,
     "start_time": "2025-06-02T02:17:50.640504",
     "status": "completed"
    },
    "tags": []
   },
   "outputs": [],
   "source": [
    "import numpy as np\n",
    "import pandas as pd\n",
    "import matplotlib.pyplot as plt\n",
    "import random\n",
    "import math\n",
    "import torch\n",
    "import torch.nn as nn\n",
    "import torch.optim as optim\n",
    "from torch.utils.data import Dataset, DataLoader\n",
    "from torch_geometric.data import Data, Batch\n",
    "import tqdm\n",
    "import numpy as np # linear algebra\n",
    "import pandas as pd # data processing, CSV file I/O (e.g. pd.read_csv)\n",
    "import torch\n",
    "import torch.nn as nn\n",
    "from torch.utils.data import DataLoader, TensorDataset, random_split\n",
    "import os\n",
    "from torch.nn import TransformerEncoder, TransformerEncoderLayer\n",
    "import math\n",
    "from torch.optim.lr_scheduler import LambdaLR\n",
    "import torch.optim as optim\n",
    "from torch.optim.lr_scheduler import StepLR\n",
    "import torch.nn.functional as F"
   ]
  },
  {
   "cell_type": "code",
   "execution_count": 3,
   "id": "77c032b4",
   "metadata": {
    "execution": {
     "iopub.execute_input": "2025-06-02T02:18:03.995472Z",
     "iopub.status.busy": "2025-06-02T02:18:03.994820Z",
     "iopub.status.idle": "2025-06-02T02:18:23.479883Z",
     "shell.execute_reply": "2025-06-02T02:18:23.479305Z"
    },
    "papermill": {
     "duration": 19.490009,
     "end_time": "2025-06-02T02:18:23.481216",
     "exception": false,
     "start_time": "2025-06-02T02:18:03.991207",
     "status": "completed"
    },
    "tags": []
   },
   "outputs": [],
   "source": [
    "train_npz = np.load('/kaggle/input/argoverse-modified/train.npz')\n",
    "train_data = train_npz['data']\n",
    "test_npz  = np.load('/kaggle/input/argoverse-modified/test_input.npz')\n",
    "test_data  = test_npz['data']"
   ]
  },
  {
   "cell_type": "code",
   "execution_count": 4,
   "id": "33d0e3c7",
   "metadata": {
    "execution": {
     "iopub.execute_input": "2025-06-02T02:18:23.488616Z",
     "iopub.status.busy": "2025-06-02T02:18:23.488425Z",
     "iopub.status.idle": "2025-06-02T02:18:23.492864Z",
     "shell.execute_reply": "2025-06-02T02:18:23.492310Z"
    },
    "papermill": {
     "duration": 0.009048,
     "end_time": "2025-06-02T02:18:23.493827",
     "exception": false,
     "start_time": "2025-06-02T02:18:23.484779",
     "status": "completed"
    },
    "tags": []
   },
   "outputs": [
    {
     "name": "stdout",
     "output_type": "stream",
     "text": [
      "(10000, 50, 110, 6) (2100, 50, 50, 6)\n"
     ]
    }
   ],
   "source": [
    "print(train_data.shape, test_data.shape)\n",
    "\n",
    "# Split once for later use\n",
    "X_train = train_data[..., :50, :]\n",
    "Y_train = train_data[:, 0, 50:, :2]"
   ]
  },
  {
   "cell_type": "code",
   "execution_count": 5,
   "id": "eee53fb4",
   "metadata": {
    "execution": {
     "iopub.execute_input": "2025-06-02T02:18:23.500929Z",
     "iopub.status.busy": "2025-06-02T02:18:23.500411Z",
     "iopub.status.idle": "2025-06-02T02:18:23.504116Z",
     "shell.execute_reply": "2025-06-02T02:18:23.503432Z"
    },
    "papermill": {
     "duration": 0.008323,
     "end_time": "2025-06-02T02:18:23.505228",
     "exception": false,
     "start_time": "2025-06-02T02:18:23.496905",
     "status": "completed"
    },
    "tags": []
   },
   "outputs": [],
   "source": [
    "def rotate(x, y, heading):\n",
    "    cos_theta = np.cos(-heading)\n",
    "    sin_theta = np.sin(-heading)\n",
    "    x_rot = x * cos_theta - y * sin_theta\n",
    "    y_rot = x * sin_theta + y * cos_theta\n",
    "    return x_rot, y_rot"
   ]
  },
  {
   "cell_type": "code",
   "execution_count": 6,
   "id": "bcb53669",
   "metadata": {
    "execution": {
     "iopub.execute_input": "2025-06-02T02:18:23.512090Z",
     "iopub.status.busy": "2025-06-02T02:18:23.511680Z",
     "iopub.status.idle": "2025-06-02T02:18:23.515698Z",
     "shell.execute_reply": "2025-06-02T02:18:23.515021Z"
    },
    "papermill": {
     "duration": 0.008569,
     "end_time": "2025-06-02T02:18:23.516763",
     "exception": false,
     "start_time": "2025-06-02T02:18:23.508194",
     "status": "completed"
    },
    "tags": []
   },
   "outputs": [],
   "source": [
    "class MotionEmbeddingMLP(nn.Module):\n",
    "    def __init__(self, input_dim = 12, hidden_dim=32, output_dim=16):\n",
    "        super().__init__()\n",
    "        self.mlp = nn.Sequential(\n",
    "            nn.Linear(input_dim, hidden_dim),\n",
    "            nn.ReLU(),\n",
    "            nn.Linear(hidden_dim, output_dim),\n",
    "        )\n",
    "\n",
    "    def forward(self, x):\n",
    "        # x: (num_agents, seq_len, input_dim)\n",
    "        return self.mlp(x)"
   ]
  },
  {
   "cell_type": "code",
   "execution_count": 7,
   "id": "ebfd9402",
   "metadata": {
    "execution": {
     "iopub.execute_input": "2025-06-02T02:18:23.524038Z",
     "iopub.status.busy": "2025-06-02T02:18:23.523807Z",
     "iopub.status.idle": "2025-06-02T02:18:23.541828Z",
     "shell.execute_reply": "2025-06-02T02:18:23.541345Z"
    },
    "papermill": {
     "duration": 0.022899,
     "end_time": "2025-06-02T02:18:23.542761",
     "exception": false,
     "start_time": "2025-06-02T02:18:23.519862",
     "status": "completed"
    },
    "tags": []
   },
   "outputs": [],
   "source": [
    "class TrajectoryDatasetTrain(Dataset):\n",
    "    def __init__(self, data, scale=10.0, augment=True):\n",
    "        \"\"\"\n",
    "        data: Shape (N, 50, 110, 6) Training data\n",
    "        scale: Scale for normalization (suggested to use 10.0 for Argoverse 2 data)\n",
    "        augment: Whether to apply data augmentation (only for training)\n",
    "        \"\"\"\n",
    "        self.data = data\n",
    "        self.scale = scale\n",
    "        self.augment = augment\n",
    "        \n",
    "\n",
    "    def __len__(self):\n",
    "        return len(self.data)\n",
    "\n",
    "    def __getitem__(self, idx):\n",
    "        scene = self.data[idx]\n",
    "        # Getting 50 historical timestamps and 60 future timestamps\n",
    "        hist = scene[:, :50, :].copy()    # (agents=50, time_seq=50, 6)\n",
    "        future = torch.tensor(scene[0, 50:, :2].copy(), dtype=torch.float32)  # (60, 2)\n",
    "        \n",
    "        # Data augmentation(only for training)\n",
    "        if self.augment:\n",
    "            if np.random.rand() < 0.5:\n",
    "                theta = np.random.uniform(-np.pi, np.pi)\n",
    "                R = np.array([[np.cos(theta), -np.sin(theta)],\n",
    "                              [np.sin(theta),  np.cos(theta)]], dtype=np.float32)\n",
    "                # Rotate the historical trajectory and future trajectory\n",
    "                hist[..., :2] = hist[..., :2] @ R\n",
    "                hist[..., 2:4] = hist[..., 2:4] @ R\n",
    "                future = future @ R\n",
    "            if np.random.rand() < 0.5:\n",
    "                hist[..., 0] *= -1\n",
    "                hist[..., 2] *= -1\n",
    "                future[:, 0] *= -1\n",
    "\n",
    "            # Gaussian position jitter\n",
    "            if np.random.rand() < 0.5:\n",
    "                noise = np.random.normal(0, 0.1, size=hist[..., :2].shape)\n",
    "                hist[..., :2] += noise\n",
    "\n",
    "            # Time warping\n",
    "            if np.random.rand() < 0.3:\n",
    "                scale = np.random.uniform(0.9, 1.1)\n",
    "                hist[..., :2] *= scale\n",
    "                hist[..., 2:4] *= scale\n",
    "                future *= scale\n",
    "\n",
    "            # Velocity perturbation\n",
    "            if np.random.rand() < 0.4:\n",
    "                perturb = np.random.normal(0, 0.05, size=hist[..., 2:4].shape)\n",
    "                hist[..., 2:4] += perturb\n",
    "                hist[..., :2] += perturb * 0.1  # assuming 0.1s per timestep\n",
    "\n",
    "        # Use the last timeframe of the historical trajectory as the origin\n",
    "        origin = hist[0, 49, :2].copy()  # (2,)\n",
    "        hist[..., :2] = hist[..., :2] - origin\n",
    "        future = future - origin\n",
    "\n",
    "        # Normalize the historical trajectory and future trajectory\n",
    "        hist[..., :4] = hist[..., :4] / self.scale\n",
    "        future = future / self.scale\n",
    "\n",
    "        vx = hist[..., 2]\n",
    "        vy = hist[..., 3]\n",
    "        ego_heading = np.arctan2(vy[0], vx[0])\n",
    "        ego_heading = ego_heading[None, :] \n",
    "        dvx = np.diff(vx, axis=1, prepend=vx[:, 0:1])\n",
    "        dvy = np.diff(vy, axis=1, prepend=vy[:, 0:1])\n",
    "        acceleration = np.sqrt(dvx**2 + dvy**2)\n",
    "\n",
    "        acc_x_ego, acc_y_ego = rotate(dvx, dvy, ego_heading)\n",
    "\n",
    "        vel_x_ego, vel_y_ego = rotate(vx, vy, ego_heading)\n",
    "\n",
    "        theta = np.arctan2(vy, vx)\n",
    "        dtheta = np.diff(theta, axis=1, prepend=theta[:, 0:1])\n",
    "\n",
    "        ego_pos = hist[0:1, :, :2]  # (1, 50, 2)\n",
    "        rel_pos = hist[:, :, :2] - ego_pos  # (50, 50, 2)\n",
    "        dist_to_ego = np.linalg.norm(rel_pos, axis=-1, keepdims=True)  # (50, 50, 1)\n",
    "        \n",
    "        rel_x = rel_pos[:, :, 0]\n",
    "        rel_y = rel_pos[:, :, 1]\n",
    "\n",
    "        rot_x, rot_y = rotate(rel_x, rel_y, ego_heading)\n",
    "\n",
    "        rotated_rel = np.stack([rot_x, rot_y], axis=-1)\n",
    "        rotated_vel = np.stack([vel_x_ego, vel_y_ego], axis=-1) # (50, 50, 2)\n",
    "        rotated_acc = np.stack([acc_x_ego, acc_y_ego], axis=-1)\n",
    "\n",
    "\n",
    "        hist = np.concatenate([hist, dvx[..., None], dvy[..., None], acceleration[..., None], dtheta[..., None],\n",
    "        rel_pos, rotated_rel, rotated_vel, rotated_acc, dist_to_ego], axis=-1)\n",
    "        data_item = Data(\n",
    "            x=torch.tensor(hist, dtype=torch.float32),\n",
    "            y=future.type(torch.float32),\n",
    "            origin=torch.tensor(origin, dtype=torch.float32).unsqueeze(0),\n",
    "            scale=torch.tensor(self.scale, dtype=torch.float32),\n",
    "        )\n",
    "\n",
    "        return data_item\n",
    "    \n",
    "\n",
    "class TrajectoryDatasetTest(Dataset):\n",
    "    def __init__(self, data, scale=10.0):\n",
    "        \"\"\"\n",
    "        data: Shape (N, 50, 110, 6) Testing data\n",
    "        scale: Scale for normalization (suggested to use 10.0 for Argoverse 2 data)\n",
    "        \"\"\"\n",
    "        self.data = data\n",
    "        self.scale = scale\n",
    "\n",
    "    def __len__(self):\n",
    "        return len(self.data)\n",
    "\n",
    "    def __getitem__(self, idx):\n",
    "        # Testing data only contains historical trajectory\n",
    "        scene = self.data[idx]  # (50, 50, 6)\n",
    "        hist = scene.copy()\n",
    "        \n",
    "        origin = hist[0, 49, :2].copy()\n",
    "        hist[..., :2] = hist[..., :2] - origin\n",
    "        hist[..., :4] = hist[..., :4] / self.scale\n",
    "\n",
    "        vx = hist[..., 2]\n",
    "        vy = hist[..., 3]\n",
    "        ego_heading = np.arctan2(vy[0], vx[0])\n",
    "        ego_heading = ego_heading[None, :] \n",
    "        dvx = np.diff(vx, axis=1, prepend=vx[:, 0:1])\n",
    "        dvy = np.diff(vy, axis=1, prepend=vy[:, 0:1])\n",
    "        acceleration = np.sqrt(dvx**2 + dvy**2)\n",
    "\n",
    "        acc_x_ego, acc_y_ego = rotate(dvx, dvy, ego_heading)\n",
    "\n",
    "        vel_x_ego, vel_y_ego = rotate(vx, vy, ego_heading)\n",
    "\n",
    "        theta = np.arctan2(vy, vx)\n",
    "        dtheta = np.diff(theta, axis=1, prepend=theta[:, 0:1])\n",
    "\n",
    "        ego_pos = hist[0:1, :, :2]  # (1, 50, 2)\n",
    "        rel_pos = hist[:, :, :2] - ego_pos\n",
    "        dist_to_ego = np.linalg.norm(rel_pos, axis=-1, keepdims=True)  # (50, 50, 1)\n",
    "\n",
    "        rel_x = rel_pos[:, :, 0]\n",
    "        rel_y = rel_pos[:, :, 1]\n",
    "\n",
    "        rot_x, rot_y = rotate(rel_x, rel_y, ego_heading)\n",
    "\n",
    "        rotated_rel = np.stack([rot_x, rot_y], axis=-1)\n",
    "        rotated_vel = np.stack([vel_x_ego, vel_y_ego], axis=-1) # (50, 50, 2)\n",
    "        rotated_acc = np.stack([acc_x_ego, acc_y_ego], axis=-1)\n",
    "\n",
    "        hist = np.concatenate([hist, dvx[..., None], dvy[..., None], acceleration[..., None], dtheta[..., None],\n",
    "        rel_pos, rotated_rel, rotated_vel, rotated_acc, dist_to_ego], axis=-1)\n",
    "\n",
    "        data_item = Data(\n",
    "            x=torch.tensor(hist, dtype=torch.float32),\n",
    "            origin=torch.tensor(origin, dtype=torch.float32).unsqueeze(0),\n",
    "            scale=torch.tensor(self.scale, dtype=torch.float32),\n",
    "        )\n",
    "        return data_item"
   ]
  },
  {
   "cell_type": "code",
   "execution_count": 8,
   "id": "e1c62b03",
   "metadata": {
    "execution": {
     "iopub.execute_input": "2025-06-02T02:18:23.549843Z",
     "iopub.status.busy": "2025-06-02T02:18:23.549272Z",
     "iopub.status.idle": "2025-06-02T02:18:23.561212Z",
     "shell.execute_reply": "2025-06-02T02:18:23.560568Z"
    },
    "papermill": {
     "duration": 0.016502,
     "end_time": "2025-06-02T02:18:23.562257",
     "exception": false,
     "start_time": "2025-06-02T02:18:23.545755",
     "status": "completed"
    },
    "tags": []
   },
   "outputs": [
    {
     "name": "stdout",
     "output_type": "stream",
     "text": [
      "Using CUDA GPU\n"
     ]
    }
   ],
   "source": [
    "torch.manual_seed(251)\n",
    "np.random.seed(42)\n",
    "\n",
    "scale = 7.0\n",
    "\n",
    "N = len(train_data)\n",
    "val_size = int(0.1 * N)\n",
    "train_size = N - val_size\n",
    "\n",
    "train_dataset = TrajectoryDatasetTrain(train_data[:train_size], scale=scale, augment=True)\n",
    "val_dataset = TrajectoryDatasetTrain(train_data[train_size:], scale=scale, augment=False)\n",
    "\n",
    "train_dataloader = DataLoader(train_dataset, batch_size=32, shuffle=True, collate_fn=lambda x: Batch.from_data_list(x))\n",
    "val_dataloader = DataLoader(val_dataset, batch_size=32, shuffle=False, collate_fn=lambda x: Batch.from_data_list(x))\n",
    "\n",
    "# Set device for training speedup\n",
    "if torch.backends.mps.is_available():\n",
    "    device = torch.device('mps')\n",
    "    print(\"Using Apple Silicon GPU\")\n",
    "elif torch.cuda.is_available():\n",
    "    device = torch.device('cuda')\n",
    "    print(\"Using CUDA GPU\")\n",
    "else:\n",
    "    device = torch.device('cpu')"
   ]
  },
  {
   "cell_type": "code",
   "execution_count": 9,
   "id": "3dc69217",
   "metadata": {
    "execution": {
     "iopub.execute_input": "2025-06-02T02:18:23.569288Z",
     "iopub.status.busy": "2025-06-02T02:18:23.569078Z",
     "iopub.status.idle": "2025-06-02T02:18:23.573679Z",
     "shell.execute_reply": "2025-06-02T02:18:23.573181Z"
    },
    "papermill": {
     "duration": 0.009137,
     "end_time": "2025-06-02T02:18:23.574648",
     "exception": false,
     "start_time": "2025-06-02T02:18:23.565511",
     "status": "completed"
    },
    "tags": []
   },
   "outputs": [],
   "source": [
    "class SinusoidalPositionalEncoding(nn.Module):\n",
    "    def __init__(self, d_model: int, max_len: int = 50):\n",
    "        super().__init__()\n",
    "        pe = torch.zeros(max_len, d_model)\n",
    "        position = torch.arange(0, max_len, dtype=torch.float32).unsqueeze(1)  # (max_len, 1)\n",
    "        div_term = torch.exp(torch.arange(0, d_model, 2).float() * (-math.log(10000.0) / d_model))  # (d_model/2)\n",
    "\n",
    "        pe[:, 0::2] = torch.sin(position * div_term)  # even indices\n",
    "        pe[:, 1::2] = torch.cos(position * div_term)  # odd indices\n",
    "\n",
    "        self.register_buffer('pe', pe)  # makes sure it's not a model parameter\n",
    "\n",
    "    def forward(self, seq_len):\n",
    "        return self.pe[:seq_len]"
   ]
  },
  {
   "cell_type": "code",
   "execution_count": 10,
   "id": "bb7d2b46",
   "metadata": {
    "execution": {
     "iopub.execute_input": "2025-06-02T02:18:23.581538Z",
     "iopub.status.busy": "2025-06-02T02:18:23.581344Z",
     "iopub.status.idle": "2025-06-02T02:18:23.595290Z",
     "shell.execute_reply": "2025-06-02T02:18:23.594719Z"
    },
    "papermill": {
     "duration": 0.018661,
     "end_time": "2025-06-02T02:18:23.596287",
     "exception": false,
     "start_time": "2025-06-02T02:18:23.577626",
     "status": "completed"
    },
    "tags": []
   },
   "outputs": [],
   "source": [
    "class SpatialBlock(nn.Module):\n",
    "    def __init__(self, hidden_size, nhead):\n",
    "        super().__init__()\n",
    "        self.attn = nn.MultiheadAttention(hidden_size, nhead, batch_first=True)\n",
    "\n",
    "    def forward(self, ego, others):\n",
    "        # ego: [B, 1, H], others: [B, N, H]\n",
    "        attn_out, _ = self.attn(ego, others, others)\n",
    "        return ego + attn_out  # [B, 1, H]\n",
    "\n",
    "class AttentionPooling(nn.Module):\n",
    "    def __init__(self, hidden_dim):\n",
    "        super().__init__()\n",
    "        self.query = nn.Parameter(torch.randn(hidden_dim))  # learnable [H]\n",
    "        self.scale = hidden_dim ** 0.5\n",
    "\n",
    "    def forward(self, x, mask=None):\n",
    "        # x: [B, N, T, H]\n",
    "        B, N, T, H = x.shape\n",
    "        q = self.query.view(1, 1, 1, H)  # [1, 1, 1, H]\n",
    "        attn_scores = (x * q).sum(dim=-1) / self.scale  # [B, N, T]\n",
    "\n",
    "        if mask is not None:\n",
    "            attn_scores = attn_scores.masked_fill(mask.squeeze(-1) == 0, -1e9)\n",
    "\n",
    "        attn_weights = F.softmax(attn_scores, dim=-1)  # [B, N, T]\n",
    "        pooled = (attn_weights.unsqueeze(-1) * x).sum(dim=2)  # [B, N, H]\n",
    "        return pooled\n",
    "\n",
    "class AgentAwarePredictor(nn.Module):\n",
    "    def __init__(self, input_stats=None, target_stats=None):\n",
    "        super().__init__()\n",
    "        self.hidden_size = 128\n",
    "        self.nhead = 4\n",
    "        self.num_layers = 2\n",
    "        self.num_agent_types = 10\n",
    "        self.dropout_rate = 0.0\n",
    "\n",
    "        self.time_pool = AttentionPooling(self.hidden_size * 2)\n",
    "\n",
    "        agent_embed_dim = self.hidden_size // 4\n",
    "        self.agent_embed = nn.Embedding(self.num_agent_types, agent_embed_dim)\n",
    "\n",
    "        self.input_proj = nn.Linear(19 + agent_embed_dim, self.hidden_size)\n",
    "        self.input_norm = nn.LayerNorm(self.hidden_size)\n",
    "        self.pos_encoder = PositionalEncoding(self.hidden_size)\n",
    "\n",
    "        encoder_layer = TransformerEncoderLayer(\n",
    "            d_model=self.hidden_size * 2,\n",
    "            nhead=self.nhead,\n",
    "            dim_feedforward=2 * self.hidden_size,\n",
    "            dropout=self.dropout_rate,\n",
    "            batch_first=True\n",
    "        )\n",
    "        self.temporal_encoder = TransformerEncoder(encoder_layer, self.num_layers)\n",
    "\n",
    "        self.cross_attn = SpatialBlock(self.hidden_size * 2, self.nhead)\n",
    "\n",
    "        self.decoder = nn.Sequential(\n",
    "            nn.Linear(self.hidden_size * 2, 256),\n",
    "            nn.ReLU(),\n",
    "            nn.Dropout(self.dropout_rate),\n",
    "            nn.Linear(256, 60 * 2)\n",
    "        )\n",
    "\n",
    "    def forward(self, data):\n",
    "        x = data.x  # shape: [B*50, 50, 19]\n",
    "        x = x.view(-1, 50, 50, 19)  # [B, N=50, T=50, F=19]\n",
    "        B, N, T, F = x.shape\n",
    "    \n",
    "        # Mask dead agents\n",
    "        dead_agents = (x.abs().sum(dim=(2, 3)) == 0)  # [B, N]\n",
    "        alive_mask = ~dead_agents  # [B, N]\n",
    "        max_agents = alive_mask.sum(dim=1).max().item()\n",
    "        new_x = torch.zeros(B, max_agents, T, F, device=x.device)\n",
    "    \n",
    "        for b in range(B):\n",
    "            new_x[b, :alive_mask[b].sum()] = x[b, alive_mask[b]]\n",
    "    \n",
    "        x = new_x\n",
    "        B, N, T, F = x.shape  # updated N\n",
    "    \n",
    "        # Agent types from feature index 5\n",
    "        agent_types = x[:, :, 0, 5].long()\n",
    "        type_embed = self.agent_embed(agent_types).unsqueeze(2).expand(-1, -1, T, -1)\n",
    "    \n",
    "        # Combine features + agent embedding\n",
    "        x_combined = torch.cat([x, type_embed], dim=-1)  # [B, N, T, F+E]\n",
    "        x_proj = self.input_proj(x_combined)\n",
    "        x_proj = self.input_norm(x_proj)\n",
    "    \n",
    "        # Flatten for temporal encoding\n",
    "        x_flat = x_proj.view(B * N, T, self.hidden_size)\n",
    "    \n",
    "        # Positional encoding\n",
    "        pos_emb = self.pos_encoder(T).unsqueeze(0).expand(B * N, -1, -1)\n",
    "        x_flat = torch.cat([x_flat, pos_emb], dim=-1)  # [B*N, T, H*2]\n",
    "    \n",
    "        # Temporal Transformer\n",
    "        x_encoded = self.temporal_encoder(x_flat).view(B, N, T, -1)\n",
    "    \n",
    "        # Time attention pooling\n",
    "        mask = (x.abs().sum(dim=-1) > 0).float().unsqueeze(-1)  # [B, N, T, 1]\n",
    "        x_encoded = self.time_pool(x_encoded, mask=mask)  # [B, N, H]\n",
    "    \n",
    "        # Ego attends to all\n",
    "        h_ego = x_encoded[:, 0:1, :]  # [B, 1, H]\n",
    "        h_attended = self.cross_attn(h_ego, x_encoded)  # [B, 1, H]\n",
    "        h_attended = h_attended.squeeze(1)  # [B, H]\n",
    "    \n",
    "        pred_norm = self.decoder(h_attended).view(B, 60, 2)\n",
    "        return pred_norm\n",
    "\n",
    "    def predict_denorm(self, x):\n",
    "        return self.forward(x)\n",
    "\n",
    "\n",
    "class PositionalEncoding(nn.Module):\n",
    "    def __init__(self, d_model: int, max_len: int = 50):\n",
    "        super().__init__()\n",
    "        pe = torch.zeros(max_len, d_model)\n",
    "        position = torch.arange(0, max_len, dtype=torch.float32).unsqueeze(1)  # (max_len, 1)\n",
    "        div_term = torch.exp(torch.arange(0, d_model, 2).float() * (-math.log(10000.0) / d_model))  # (d_model/2)\n",
    "\n",
    "        pe[:, 0::2] = torch.sin(position * div_term)  # even indices\n",
    "        pe[:, 1::2] = torch.cos(position * div_term)  # odd indices\n",
    "\n",
    "        self.register_buffer('pe', pe)  # makes sure it's not a model parameter\n",
    "\n",
    "    def forward(self, seq_len):\n",
    "        return self.pe[:seq_len]"
   ]
  },
  {
   "cell_type": "code",
   "execution_count": 11,
   "id": "af4badb3",
   "metadata": {
    "execution": {
     "iopub.execute_input": "2025-06-02T02:18:23.602950Z",
     "iopub.status.busy": "2025-06-02T02:18:23.602751Z",
     "iopub.status.idle": "2025-06-02T02:18:23.804400Z",
     "shell.execute_reply": "2025-06-02T02:18:23.803803Z"
    },
    "papermill": {
     "duration": 0.206436,
     "end_time": "2025-06-02T02:18:23.805731",
     "exception": false,
     "start_time": "2025-06-02T02:18:23.599295",
     "status": "completed"
    },
    "tags": []
   },
   "outputs": [],
   "source": [
    "model = AgentAwarePredictor().to(device)\n",
    "\n",
    "optimizer = optim.Adam(model.parameters(), lr=1e-3, weight_decay=1e-4)\n",
    "scheduler = optim.lr_scheduler.StepLR(optimizer, step_size=10, gamma=0.5) # You can try different schedulers\n",
    "early_stopping_patience = 10\n",
    "best_val_loss = float('inf')\n",
    "no_improvement = 0\n",
    "criterion = nn.MSELoss()"
   ]
  },
  {
   "cell_type": "code",
   "execution_count": 12,
   "id": "b2aba908",
   "metadata": {
    "execution": {
     "iopub.execute_input": "2025-06-02T02:18:23.813182Z",
     "iopub.status.busy": "2025-06-02T02:18:23.812945Z",
     "iopub.status.idle": "2025-06-02T02:18:23.817625Z",
     "shell.execute_reply": "2025-06-02T02:18:23.816959Z"
    },
    "papermill": {
     "duration": 0.009583,
     "end_time": "2025-06-02T02:18:23.818703",
     "exception": false,
     "start_time": "2025-06-02T02:18:23.809120",
     "status": "completed"
    },
    "tags": []
   },
   "outputs": [],
   "source": [
    "def combined_loss_fn(pred_norm, y_norm, batch, fde_weight=0.2):\n",
    "    \"\"\"\n",
    "    Combined loss function with MSE + FDE in world coordinates\n",
    "    \"\"\"\n",
    "    # 1) Raw MSE (in normalized coordinates)\n",
    "    raw_loss = F.mse_loss(pred_norm, y_norm)\n",
    "    \n",
    "    # 2) Denormalize to world coordinates\n",
    "    scale = batch.scale.view(-1, 1, 1)   # (B,1,1)\n",
    "    origin = batch.origin.view(-1, 1, 2)  # (B,1,2)\n",
    "    pred_world = pred_norm * scale + origin  # (B,60,2)\n",
    "    y_world = y_norm * scale + origin\n",
    "    \n",
    "    # 3) World MSE\n",
    "    world_loss = F.mse_loss(pred_world, y_world)\n",
    "    \n",
    "    # 4) Final Displacement Error (FDE) at t=60 in world coords\n",
    "    fde = F.mse_loss(pred_world[:, -1, :], y_world[:, -1, :])\n",
    "    \n",
    "    # 5) Combined loss: world_loss + fde_weight * fde\n",
    "    total_loss = world_loss + fde_weight * fde\n",
    "    \n",
    "    return total_loss, raw_loss, world_loss, fde"
   ]
  },
  {
   "cell_type": "code",
   "execution_count": 13,
   "id": "1ebd3603",
   "metadata": {
    "execution": {
     "iopub.execute_input": "2025-06-02T02:18:23.825748Z",
     "iopub.status.busy": "2025-06-02T02:18:23.825541Z",
     "iopub.status.idle": "2025-06-02T03:46:03.236076Z",
     "shell.execute_reply": "2025-06-02T03:46:03.235401Z"
    },
    "papermill": {
     "duration": 5259.439715,
     "end_time": "2025-06-02T03:46:03.261531",
     "exception": false,
     "start_time": "2025-06-02T02:18:23.821816",
     "status": "completed"
    },
    "tags": []
   },
   "outputs": [
    {
     "name": "stderr",
     "output_type": "stream",
     "text": [
      "Epoch:   1%|          | 1/100 [00:53<1:28:43, 53.77s/epoch]"
     ]
    },
    {
     "name": "stdout",
     "output_type": "stream",
     "text": [
      "epoch 1 almost done\n",
      "Epoch 000 | Learning rate 0.001000 | train normalized MSE  73.4450 | val normalized MSE  40.9533, | val MAE   2.9722 | val MSE  24.2212\n"
     ]
    },
    {
     "name": "stderr",
     "output_type": "stream",
     "text": [
      "Epoch:   2%|▏         | 2/100 [01:45<1:26:12, 52.78s/epoch]"
     ]
    },
    {
     "name": "stdout",
     "output_type": "stream",
     "text": [
      "epoch 1 almost done\n",
      "Epoch 001 | Learning rate 0.001000 | train normalized MSE  33.8285 | val normalized MSE  30.0519, | val MAE   2.6652 | val MSE  17.5594\n"
     ]
    },
    {
     "name": "stderr",
     "output_type": "stream",
     "text": [
      "Epoch:   3%|▎         | 3/100 [02:37<1:24:34, 52.31s/epoch]"
     ]
    },
    {
     "name": "stdout",
     "output_type": "stream",
     "text": [
      "epoch 1 almost done\n",
      "Epoch 002 | Learning rate 0.001000 | train normalized MSE  29.9577 | val normalized MSE  33.3440, | val MAE   2.7291 | val MSE  19.6319\n"
     ]
    },
    {
     "name": "stderr",
     "output_type": "stream",
     "text": [
      "Epoch:   4%|▍         | 4/100 [03:29<1:23:17, 52.06s/epoch]"
     ]
    },
    {
     "name": "stdout",
     "output_type": "stream",
     "text": [
      "epoch 1 almost done\n",
      "Epoch 003 | Learning rate 0.001000 | train normalized MSE  27.9871 | val normalized MSE  34.1481, | val MAE   2.8471 | val MSE  20.2417\n"
     ]
    },
    {
     "name": "stderr",
     "output_type": "stream",
     "text": [
      "Epoch:   5%|▌         | 5/100 [04:21<1:22:31, 52.12s/epoch]"
     ]
    },
    {
     "name": "stdout",
     "output_type": "stream",
     "text": [
      "epoch 1 almost done\n",
      "Epoch 004 | Learning rate 0.001000 | train normalized MSE  25.9533 | val normalized MSE  23.8382, | val MAE   1.9627 | val MSE  13.3663\n"
     ]
    },
    {
     "name": "stderr",
     "output_type": "stream",
     "text": [
      "Epoch:   6%|▌         | 6/100 [05:14<1:22:12, 52.47s/epoch]"
     ]
    },
    {
     "name": "stdout",
     "output_type": "stream",
     "text": [
      "epoch 1 almost done\n",
      "Epoch 005 | Learning rate 0.001000 | train normalized MSE  24.3838 | val normalized MSE  21.4336, | val MAE   1.9341 | val MSE  12.0876\n"
     ]
    },
    {
     "name": "stderr",
     "output_type": "stream",
     "text": [
      "Epoch:   7%|▋         | 7/100 [06:07<1:21:27, 52.55s/epoch]"
     ]
    },
    {
     "name": "stdout",
     "output_type": "stream",
     "text": [
      "epoch 1 almost done\n",
      "Epoch 006 | Learning rate 0.001000 | train normalized MSE  24.6724 | val normalized MSE  26.0570, | val MAE   2.2099 | val MSE  14.9005\n"
     ]
    },
    {
     "name": "stderr",
     "output_type": "stream",
     "text": [
      "Epoch:   8%|▊         | 8/100 [07:00<1:20:52, 52.74s/epoch]"
     ]
    },
    {
     "name": "stdout",
     "output_type": "stream",
     "text": [
      "epoch 1 almost done\n",
      "Epoch 007 | Learning rate 0.001000 | train normalized MSE  23.8342 | val normalized MSE  19.4877, | val MAE   1.7464 | val MSE  10.7091\n"
     ]
    },
    {
     "name": "stderr",
     "output_type": "stream",
     "text": [
      "Epoch:   9%|▉         | 9/100 [07:53<1:20:15, 52.92s/epoch]"
     ]
    },
    {
     "name": "stdout",
     "output_type": "stream",
     "text": [
      "epoch 1 almost done\n",
      "Epoch 008 | Learning rate 0.001000 | train normalized MSE  22.8632 | val normalized MSE  23.1485, | val MAE   2.0731 | val MSE  13.2691\n"
     ]
    },
    {
     "name": "stderr",
     "output_type": "stream",
     "text": [
      "Epoch:  10%|█         | 10/100 [08:46<1:19:22, 52.91s/epoch]"
     ]
    },
    {
     "name": "stdout",
     "output_type": "stream",
     "text": [
      "epoch 1 almost done\n",
      "Epoch 009 | Learning rate 0.000500 | train normalized MSE  22.1604 | val normalized MSE  21.9678, | val MAE   1.9548 | val MSE  12.3882\n"
     ]
    },
    {
     "name": "stderr",
     "output_type": "stream",
     "text": [
      "Epoch:  11%|█         | 11/100 [09:39<1:18:18, 52.79s/epoch]"
     ]
    },
    {
     "name": "stdout",
     "output_type": "stream",
     "text": [
      "epoch 1 almost done\n",
      "Epoch 010 | Learning rate 0.000500 | train normalized MSE  19.5466 | val normalized MSE  17.5406, | val MAE   1.5802 | val MSE   9.5730\n"
     ]
    },
    {
     "name": "stderr",
     "output_type": "stream",
     "text": [
      "Epoch:  12%|█▏        | 12/100 [10:31<1:17:10, 52.61s/epoch]"
     ]
    },
    {
     "name": "stdout",
     "output_type": "stream",
     "text": [
      "epoch 1 almost done\n",
      "Epoch 011 | Learning rate 0.000500 | train normalized MSE  18.6283 | val normalized MSE  18.9957, | val MAE   1.7708 | val MSE  10.5108\n"
     ]
    },
    {
     "name": "stderr",
     "output_type": "stream",
     "text": [
      "Epoch:  13%|█▎        | 13/100 [11:24<1:16:16, 52.60s/epoch]"
     ]
    },
    {
     "name": "stdout",
     "output_type": "stream",
     "text": [
      "epoch 1 almost done\n",
      "Epoch 012 | Learning rate 0.000500 | train normalized MSE  18.6025 | val normalized MSE  18.9398, | val MAE   1.7862 | val MSE  10.4451\n"
     ]
    },
    {
     "name": "stderr",
     "output_type": "stream",
     "text": [
      "Epoch:  14%|█▍        | 14/100 [12:16<1:15:15, 52.51s/epoch]"
     ]
    },
    {
     "name": "stdout",
     "output_type": "stream",
     "text": [
      "epoch 1 almost done\n",
      "Epoch 013 | Learning rate 0.000500 | train normalized MSE  18.5768 | val normalized MSE  17.6524, | val MAE   1.5805 | val MSE   9.7208\n"
     ]
    },
    {
     "name": "stderr",
     "output_type": "stream",
     "text": [
      "Epoch:  15%|█▌        | 15/100 [13:08<1:14:15, 52.42s/epoch]"
     ]
    },
    {
     "name": "stdout",
     "output_type": "stream",
     "text": [
      "epoch 1 almost done\n",
      "Epoch 014 | Learning rate 0.000500 | train normalized MSE  18.2544 | val normalized MSE  18.7454, | val MAE   1.7198 | val MSE  10.3695\n"
     ]
    },
    {
     "name": "stderr",
     "output_type": "stream",
     "text": [
      "Epoch:  16%|█▌        | 16/100 [14:00<1:13:07, 52.23s/epoch]"
     ]
    },
    {
     "name": "stdout",
     "output_type": "stream",
     "text": [
      "epoch 1 almost done\n",
      "Epoch 015 | Learning rate 0.000500 | train normalized MSE  18.0028 | val normalized MSE  17.8971, | val MAE   1.7122 | val MSE   9.9027\n"
     ]
    },
    {
     "name": "stderr",
     "output_type": "stream",
     "text": [
      "Epoch:  17%|█▋        | 17/100 [14:52<1:12:14, 52.22s/epoch]"
     ]
    },
    {
     "name": "stdout",
     "output_type": "stream",
     "text": [
      "epoch 1 almost done\n",
      "Epoch 016 | Learning rate 0.000500 | train normalized MSE  18.0980 | val normalized MSE  17.8458, | val MAE   1.6534 | val MSE   9.7788\n"
     ]
    },
    {
     "name": "stderr",
     "output_type": "stream",
     "text": [
      "Epoch:  18%|█▊        | 18/100 [15:44<1:11:13, 52.12s/epoch]"
     ]
    },
    {
     "name": "stdout",
     "output_type": "stream",
     "text": [
      "epoch 1 almost done\n",
      "Epoch 017 | Learning rate 0.000500 | train normalized MSE  17.9182 | val normalized MSE  17.2733, | val MAE   1.5693 | val MSE   9.3328\n"
     ]
    },
    {
     "name": "stderr",
     "output_type": "stream",
     "text": [
      "Epoch:  19%|█▉        | 19/100 [16:36<1:10:14, 52.04s/epoch]"
     ]
    },
    {
     "name": "stdout",
     "output_type": "stream",
     "text": [
      "epoch 1 almost done\n",
      "Epoch 018 | Learning rate 0.000500 | train normalized MSE  17.8653 | val normalized MSE  17.3232, | val MAE   1.5596 | val MSE   9.4653\n"
     ]
    },
    {
     "name": "stderr",
     "output_type": "stream",
     "text": [
      "Epoch:  20%|██        | 20/100 [17:27<1:09:10, 51.88s/epoch]"
     ]
    },
    {
     "name": "stdout",
     "output_type": "stream",
     "text": [
      "epoch 1 almost done\n",
      "Epoch 019 | Learning rate 0.000250 | train normalized MSE  17.8237 | val normalized MSE  17.8381, | val MAE   1.6212 | val MSE   9.8918\n"
     ]
    },
    {
     "name": "stderr",
     "output_type": "stream",
     "text": [
      "Epoch:  21%|██        | 21/100 [18:19<1:08:09, 51.77s/epoch]"
     ]
    },
    {
     "name": "stdout",
     "output_type": "stream",
     "text": [
      "epoch 1 almost done\n",
      "Epoch 020 | Learning rate 0.000250 | train normalized MSE  16.3849 | val normalized MSE  16.1515, | val MAE   1.4745 | val MSE   8.7464\n"
     ]
    },
    {
     "name": "stderr",
     "output_type": "stream",
     "text": [
      "Epoch:  22%|██▏       | 22/100 [19:10<1:07:15, 51.73s/epoch]"
     ]
    },
    {
     "name": "stdout",
     "output_type": "stream",
     "text": [
      "epoch 1 almost done\n",
      "Epoch 021 | Learning rate 0.000250 | train normalized MSE  16.3690 | val normalized MSE  15.6926, | val MAE   1.4247 | val MSE   8.5049\n"
     ]
    },
    {
     "name": "stderr",
     "output_type": "stream",
     "text": [
      "Epoch:  23%|██▎       | 23/100 [20:02<1:06:19, 51.68s/epoch]"
     ]
    },
    {
     "name": "stdout",
     "output_type": "stream",
     "text": [
      "epoch 1 almost done\n",
      "Epoch 022 | Learning rate 0.000250 | train normalized MSE  16.3905 | val normalized MSE  15.5112, | val MAE   1.4129 | val MSE   8.3502\n"
     ]
    },
    {
     "name": "stderr",
     "output_type": "stream",
     "text": [
      "Epoch:  24%|██▍       | 24/100 [20:54<1:05:29, 51.70s/epoch]"
     ]
    },
    {
     "name": "stdout",
     "output_type": "stream",
     "text": [
      "epoch 1 almost done\n",
      "Epoch 023 | Learning rate 0.000250 | train normalized MSE  16.1062 | val normalized MSE  16.3612, | val MAE   1.4869 | val MSE   8.8285\n"
     ]
    },
    {
     "name": "stderr",
     "output_type": "stream",
     "text": [
      "Epoch:  25%|██▌       | 25/100 [21:46<1:04:57, 51.96s/epoch]"
     ]
    },
    {
     "name": "stdout",
     "output_type": "stream",
     "text": [
      "epoch 1 almost done\n",
      "Epoch 024 | Learning rate 0.000250 | train normalized MSE  15.9480 | val normalized MSE  15.6493, | val MAE   1.4093 | val MSE   8.4008\n"
     ]
    },
    {
     "name": "stderr",
     "output_type": "stream",
     "text": [
      "Epoch:  26%|██▌       | 26/100 [22:39<1:04:25, 52.23s/epoch]"
     ]
    },
    {
     "name": "stdout",
     "output_type": "stream",
     "text": [
      "epoch 1 almost done\n",
      "Epoch 025 | Learning rate 0.000250 | train normalized MSE  16.0472 | val normalized MSE  17.6170, | val MAE   1.6621 | val MSE   9.6877\n"
     ]
    },
    {
     "name": "stderr",
     "output_type": "stream",
     "text": [
      "Epoch:  27%|██▋       | 27/100 [23:32<1:03:36, 52.28s/epoch]"
     ]
    },
    {
     "name": "stdout",
     "output_type": "stream",
     "text": [
      "epoch 1 almost done\n",
      "Epoch 026 | Learning rate 0.000250 | train normalized MSE  15.8317 | val normalized MSE  15.8244, | val MAE   1.4423 | val MSE   8.5368\n"
     ]
    },
    {
     "name": "stderr",
     "output_type": "stream",
     "text": [
      "Epoch:  28%|██▊       | 28/100 [24:24<1:02:46, 52.32s/epoch]"
     ]
    },
    {
     "name": "stdout",
     "output_type": "stream",
     "text": [
      "epoch 1 almost done\n",
      "Epoch 027 | Learning rate 0.000250 | train normalized MSE  15.7414 | val normalized MSE  15.5212, | val MAE   1.3978 | val MSE   8.3679\n"
     ]
    },
    {
     "name": "stderr",
     "output_type": "stream",
     "text": [
      "Epoch:  29%|██▉       | 29/100 [25:17<1:02:04, 52.45s/epoch]"
     ]
    },
    {
     "name": "stdout",
     "output_type": "stream",
     "text": [
      "epoch 1 almost done\n",
      "Epoch 028 | Learning rate 0.000250 | train normalized MSE  15.7179 | val normalized MSE  15.7234, | val MAE   1.4261 | val MSE   8.4746\n"
     ]
    },
    {
     "name": "stderr",
     "output_type": "stream",
     "text": [
      "Epoch:  30%|███       | 30/100 [26:09<1:01:13, 52.48s/epoch]"
     ]
    },
    {
     "name": "stdout",
     "output_type": "stream",
     "text": [
      "epoch 1 almost done\n",
      "Epoch 029 | Learning rate 0.000125 | train normalized MSE  15.6910 | val normalized MSE  16.2521, | val MAE   1.4745 | val MSE   8.7851\n"
     ]
    },
    {
     "name": "stderr",
     "output_type": "stream",
     "text": [
      "Epoch:  31%|███       | 31/100 [27:02<1:00:23, 52.51s/epoch]"
     ]
    },
    {
     "name": "stdout",
     "output_type": "stream",
     "text": [
      "epoch 1 almost done\n",
      "Epoch 030 | Learning rate 0.000125 | train normalized MSE  14.9263 | val normalized MSE  15.2095, | val MAE   1.3616 | val MSE   8.1609\n"
     ]
    },
    {
     "name": "stderr",
     "output_type": "stream",
     "text": [
      "Epoch:  32%|███▏      | 32/100 [27:54<59:25, 52.43s/epoch]  "
     ]
    },
    {
     "name": "stdout",
     "output_type": "stream",
     "text": [
      "epoch 1 almost done\n",
      "Epoch 031 | Learning rate 0.000125 | train normalized MSE  14.6290 | val normalized MSE  14.6598, | val MAE   1.3403 | val MSE   7.8547\n"
     ]
    },
    {
     "name": "stderr",
     "output_type": "stream",
     "text": [
      "Epoch:  33%|███▎      | 33/100 [28:46<58:27, 52.35s/epoch]"
     ]
    },
    {
     "name": "stdout",
     "output_type": "stream",
     "text": [
      "epoch 1 almost done\n",
      "Epoch 032 | Learning rate 0.000125 | train normalized MSE  14.5400 | val normalized MSE  14.9081, | val MAE   1.3512 | val MSE   7.9979\n"
     ]
    },
    {
     "name": "stderr",
     "output_type": "stream",
     "text": [
      "Epoch:  34%|███▍      | 34/100 [29:38<57:30, 52.28s/epoch]"
     ]
    },
    {
     "name": "stdout",
     "output_type": "stream",
     "text": [
      "epoch 1 almost done\n",
      "Epoch 033 | Learning rate 0.000125 | train normalized MSE  14.5972 | val normalized MSE  15.3689, | val MAE   1.4141 | val MSE   8.2737\n"
     ]
    },
    {
     "name": "stderr",
     "output_type": "stream",
     "text": [
      "Epoch:  35%|███▌      | 35/100 [30:31<56:41, 52.34s/epoch]"
     ]
    },
    {
     "name": "stdout",
     "output_type": "stream",
     "text": [
      "epoch 1 almost done\n",
      "Epoch 034 | Learning rate 0.000125 | train normalized MSE  14.3734 | val normalized MSE  15.4346, | val MAE   1.4410 | val MSE   8.3591\n"
     ]
    },
    {
     "name": "stderr",
     "output_type": "stream",
     "text": [
      "Epoch:  36%|███▌      | 36/100 [31:23<55:52, 52.39s/epoch]"
     ]
    },
    {
     "name": "stdout",
     "output_type": "stream",
     "text": [
      "epoch 1 almost done\n",
      "Epoch 035 | Learning rate 0.000125 | train normalized MSE  14.3239 | val normalized MSE  14.9857, | val MAE   1.3772 | val MSE   8.0214\n"
     ]
    },
    {
     "name": "stderr",
     "output_type": "stream",
     "text": [
      "Epoch:  37%|███▋      | 37/100 [32:16<55:01, 52.41s/epoch]"
     ]
    },
    {
     "name": "stdout",
     "output_type": "stream",
     "text": [
      "epoch 1 almost done\n",
      "Epoch 036 | Learning rate 0.000125 | train normalized MSE  14.3924 | val normalized MSE  14.6499, | val MAE   1.3038 | val MSE   7.8476\n"
     ]
    },
    {
     "name": "stderr",
     "output_type": "stream",
     "text": [
      "Epoch:  38%|███▊      | 38/100 [33:08<54:08, 52.40s/epoch]"
     ]
    },
    {
     "name": "stdout",
     "output_type": "stream",
     "text": [
      "epoch 1 almost done\n",
      "Epoch 037 | Learning rate 0.000125 | train normalized MSE  14.2355 | val normalized MSE  14.9610, | val MAE   1.3611 | val MSE   8.0468\n"
     ]
    },
    {
     "name": "stderr",
     "output_type": "stream",
     "text": [
      "Epoch:  39%|███▉      | 39/100 [34:01<53:22, 52.50s/epoch]"
     ]
    },
    {
     "name": "stdout",
     "output_type": "stream",
     "text": [
      "epoch 1 almost done\n",
      "Epoch 038 | Learning rate 0.000125 | train normalized MSE  14.1398 | val normalized MSE  14.6629, | val MAE   1.2824 | val MSE   7.8367\n"
     ]
    },
    {
     "name": "stderr",
     "output_type": "stream",
     "text": [
      "Epoch:  40%|████      | 40/100 [34:53<52:21, 52.35s/epoch]"
     ]
    },
    {
     "name": "stdout",
     "output_type": "stream",
     "text": [
      "epoch 1 almost done\n",
      "Epoch 039 | Learning rate 0.000063 | train normalized MSE  14.1164 | val normalized MSE  14.5867, | val MAE   1.3746 | val MSE   7.8395\n"
     ]
    },
    {
     "name": "stderr",
     "output_type": "stream",
     "text": [
      "Epoch:  41%|████      | 41/100 [35:45<51:25, 52.30s/epoch]"
     ]
    },
    {
     "name": "stdout",
     "output_type": "stream",
     "text": [
      "epoch 1 almost done\n",
      "Epoch 040 | Learning rate 0.000063 | train normalized MSE  13.7569 | val normalized MSE  13.9591, | val MAE   1.2464 | val MSE   7.4467\n"
     ]
    },
    {
     "name": "stderr",
     "output_type": "stream",
     "text": [
      "Epoch:  42%|████▏     | 42/100 [36:38<50:39, 52.41s/epoch]"
     ]
    },
    {
     "name": "stdout",
     "output_type": "stream",
     "text": [
      "epoch 1 almost done\n",
      "Epoch 041 | Learning rate 0.000063 | train normalized MSE  13.6034 | val normalized MSE  14.2764, | val MAE   1.2835 | val MSE   7.6420\n"
     ]
    },
    {
     "name": "stderr",
     "output_type": "stream",
     "text": [
      "Epoch:  43%|████▎     | 43/100 [37:31<49:55, 52.54s/epoch]"
     ]
    },
    {
     "name": "stdout",
     "output_type": "stream",
     "text": [
      "epoch 1 almost done\n",
      "Epoch 042 | Learning rate 0.000063 | train normalized MSE  13.5383 | val normalized MSE  13.7746, | val MAE   1.2379 | val MSE   7.3296\n"
     ]
    },
    {
     "name": "stderr",
     "output_type": "stream",
     "text": [
      "Epoch:  44%|████▍     | 44/100 [38:23<49:05, 52.59s/epoch]"
     ]
    },
    {
     "name": "stdout",
     "output_type": "stream",
     "text": [
      "epoch 1 almost done\n",
      "Epoch 043 | Learning rate 0.000063 | train normalized MSE  13.4186 | val normalized MSE  14.2476, | val MAE   1.2535 | val MSE   7.5958\n"
     ]
    },
    {
     "name": "stderr",
     "output_type": "stream",
     "text": [
      "Epoch:  45%|████▌     | 45/100 [39:16<48:13, 52.61s/epoch]"
     ]
    },
    {
     "name": "stdout",
     "output_type": "stream",
     "text": [
      "epoch 1 almost done\n",
      "Epoch 044 | Learning rate 0.000063 | train normalized MSE  13.6256 | val normalized MSE  13.9623, | val MAE   1.2658 | val MSE   7.4538\n"
     ]
    },
    {
     "name": "stderr",
     "output_type": "stream",
     "text": [
      "Epoch:  46%|████▌     | 46/100 [40:10<47:36, 52.89s/epoch]"
     ]
    },
    {
     "name": "stdout",
     "output_type": "stream",
     "text": [
      "epoch 1 almost done\n",
      "Epoch 045 | Learning rate 0.000063 | train normalized MSE  13.2401 | val normalized MSE  14.2129, | val MAE   1.2494 | val MSE   7.5794\n"
     ]
    },
    {
     "name": "stderr",
     "output_type": "stream",
     "text": [
      "Epoch:  47%|████▋     | 47/100 [41:03<46:53, 53.09s/epoch]"
     ]
    },
    {
     "name": "stdout",
     "output_type": "stream",
     "text": [
      "epoch 1 almost done\n",
      "Epoch 046 | Learning rate 0.000063 | train normalized MSE  13.4325 | val normalized MSE  14.2774, | val MAE   1.2736 | val MSE   7.6399\n"
     ]
    },
    {
     "name": "stderr",
     "output_type": "stream",
     "text": [
      "Epoch:  48%|████▊     | 48/100 [41:55<45:47, 52.84s/epoch]"
     ]
    },
    {
     "name": "stdout",
     "output_type": "stream",
     "text": [
      "epoch 1 almost done\n",
      "Epoch 047 | Learning rate 0.000063 | train normalized MSE  13.3235 | val normalized MSE  13.7728, | val MAE   1.2597 | val MSE   7.3371\n"
     ]
    },
    {
     "name": "stderr",
     "output_type": "stream",
     "text": [
      "Epoch:  49%|████▉     | 49/100 [42:48<44:56, 52.87s/epoch]"
     ]
    },
    {
     "name": "stdout",
     "output_type": "stream",
     "text": [
      "epoch 1 almost done\n",
      "Epoch 048 | Learning rate 0.000063 | train normalized MSE  13.3773 | val normalized MSE  14.0002, | val MAE   1.2758 | val MSE   7.4653\n"
     ]
    },
    {
     "name": "stderr",
     "output_type": "stream",
     "text": [
      "Epoch:  50%|█████     | 50/100 [43:41<43:56, 52.74s/epoch]"
     ]
    },
    {
     "name": "stdout",
     "output_type": "stream",
     "text": [
      "epoch 1 almost done\n",
      "Epoch 049 | Learning rate 0.000031 | train normalized MSE  13.3384 | val normalized MSE  13.8825, | val MAE   1.2722 | val MSE   7.4027\n"
     ]
    },
    {
     "name": "stderr",
     "output_type": "stream",
     "text": [
      "Epoch:  51%|█████     | 51/100 [44:33<43:01, 52.68s/epoch]"
     ]
    },
    {
     "name": "stdout",
     "output_type": "stream",
     "text": [
      "epoch 1 almost done\n",
      "Epoch 050 | Learning rate 0.000031 | train normalized MSE  13.1134 | val normalized MSE  13.8464, | val MAE   1.2446 | val MSE   7.3958\n"
     ]
    },
    {
     "name": "stderr",
     "output_type": "stream",
     "text": [
      "Epoch:  52%|█████▏    | 52/100 [45:25<42:01, 52.53s/epoch]"
     ]
    },
    {
     "name": "stdout",
     "output_type": "stream",
     "text": [
      "epoch 1 almost done\n",
      "Epoch 051 | Learning rate 0.000031 | train normalized MSE  12.9791 | val normalized MSE  13.6305, | val MAE   1.2269 | val MSE   7.2721\n"
     ]
    },
    {
     "name": "stderr",
     "output_type": "stream",
     "text": [
      "Epoch:  53%|█████▎    | 53/100 [46:18<41:14, 52.64s/epoch]"
     ]
    },
    {
     "name": "stdout",
     "output_type": "stream",
     "text": [
      "epoch 1 almost done\n",
      "Epoch 052 | Learning rate 0.000031 | train normalized MSE  13.0537 | val normalized MSE  13.7702, | val MAE   1.2348 | val MSE   7.3334\n"
     ]
    },
    {
     "name": "stderr",
     "output_type": "stream",
     "text": [
      "Epoch:  54%|█████▍    | 54/100 [47:11<40:22, 52.66s/epoch]"
     ]
    },
    {
     "name": "stdout",
     "output_type": "stream",
     "text": [
      "epoch 1 almost done\n",
      "Epoch 053 | Learning rate 0.000031 | train normalized MSE  12.9941 | val normalized MSE  13.8190, | val MAE   1.2287 | val MSE   7.3601\n"
     ]
    },
    {
     "name": "stderr",
     "output_type": "stream",
     "text": [
      "Epoch:  55%|█████▌    | 55/100 [48:03<39:26, 52.59s/epoch]"
     ]
    },
    {
     "name": "stdout",
     "output_type": "stream",
     "text": [
      "epoch 1 almost done\n",
      "Epoch 054 | Learning rate 0.000031 | train normalized MSE  12.9974 | val normalized MSE  13.8121, | val MAE   1.2290 | val MSE   7.3610\n"
     ]
    },
    {
     "name": "stderr",
     "output_type": "stream",
     "text": [
      "Epoch:  56%|█████▌    | 56/100 [48:55<38:26, 52.42s/epoch]"
     ]
    },
    {
     "name": "stdout",
     "output_type": "stream",
     "text": [
      "epoch 1 almost done\n",
      "Epoch 055 | Learning rate 0.000031 | train normalized MSE  13.0792 | val normalized MSE  13.5948, | val MAE   1.2184 | val MSE   7.2392\n"
     ]
    },
    {
     "name": "stderr",
     "output_type": "stream",
     "text": [
      "Epoch:  57%|█████▋    | 57/100 [49:48<37:34, 52.44s/epoch]"
     ]
    },
    {
     "name": "stdout",
     "output_type": "stream",
     "text": [
      "epoch 1 almost done\n",
      "Epoch 056 | Learning rate 0.000031 | train normalized MSE  12.9112 | val normalized MSE  13.5376, | val MAE   1.2131 | val MSE   7.2042\n"
     ]
    },
    {
     "name": "stderr",
     "output_type": "stream",
     "text": [
      "Epoch:  58%|█████▊    | 58/100 [50:41<36:50, 52.63s/epoch]"
     ]
    },
    {
     "name": "stdout",
     "output_type": "stream",
     "text": [
      "epoch 1 almost done\n",
      "Epoch 057 | Learning rate 0.000031 | train normalized MSE  12.7723 | val normalized MSE  13.6052, | val MAE   1.2271 | val MSE   7.2509\n"
     ]
    },
    {
     "name": "stderr",
     "output_type": "stream",
     "text": [
      "Epoch:  59%|█████▉    | 59/100 [51:34<35:59, 52.66s/epoch]"
     ]
    },
    {
     "name": "stdout",
     "output_type": "stream",
     "text": [
      "epoch 1 almost done\n",
      "Epoch 058 | Learning rate 0.000031 | train normalized MSE  12.9449 | val normalized MSE  13.5944, | val MAE   1.2231 | val MSE   7.2394\n"
     ]
    },
    {
     "name": "stderr",
     "output_type": "stream",
     "text": [
      "Epoch:  60%|██████    | 60/100 [52:26<35:05, 52.65s/epoch]"
     ]
    },
    {
     "name": "stdout",
     "output_type": "stream",
     "text": [
      "epoch 1 almost done\n",
      "Epoch 059 | Learning rate 0.000016 | train normalized MSE  12.8134 | val normalized MSE  13.6474, | val MAE   1.2255 | val MSE   7.2706\n"
     ]
    },
    {
     "name": "stderr",
     "output_type": "stream",
     "text": [
      "Epoch:  61%|██████    | 61/100 [53:19<34:16, 52.72s/epoch]"
     ]
    },
    {
     "name": "stdout",
     "output_type": "stream",
     "text": [
      "epoch 1 almost done\n",
      "Epoch 060 | Learning rate 0.000016 | train normalized MSE  12.8725 | val normalized MSE  13.6336, | val MAE   1.2164 | val MSE   7.2570\n"
     ]
    },
    {
     "name": "stderr",
     "output_type": "stream",
     "text": [
      "Epoch:  62%|██████▏   | 62/100 [54:13<33:33, 52.98s/epoch]"
     ]
    },
    {
     "name": "stdout",
     "output_type": "stream",
     "text": [
      "epoch 1 almost done\n",
      "Epoch 061 | Learning rate 0.000016 | train normalized MSE  12.7137 | val normalized MSE  13.6120, | val MAE   1.2126 | val MSE   7.2490\n"
     ]
    },
    {
     "name": "stderr",
     "output_type": "stream",
     "text": [
      "Epoch:  63%|██████▎   | 63/100 [55:06<32:41, 53.02s/epoch]"
     ]
    },
    {
     "name": "stdout",
     "output_type": "stream",
     "text": [
      "epoch 1 almost done\n",
      "Epoch 062 | Learning rate 0.000016 | train normalized MSE  12.6998 | val normalized MSE  13.4984, | val MAE   1.2146 | val MSE   7.1833\n"
     ]
    },
    {
     "name": "stderr",
     "output_type": "stream",
     "text": [
      "Epoch:  64%|██████▍   | 64/100 [56:00<31:55, 53.20s/epoch]"
     ]
    },
    {
     "name": "stdout",
     "output_type": "stream",
     "text": [
      "epoch 1 almost done\n",
      "Epoch 063 | Learning rate 0.000016 | train normalized MSE  12.5954 | val normalized MSE  13.5302, | val MAE   1.2276 | val MSE   7.1990\n"
     ]
    },
    {
     "name": "stderr",
     "output_type": "stream",
     "text": [
      "Epoch:  65%|██████▌   | 65/100 [56:53<31:01, 53.19s/epoch]"
     ]
    },
    {
     "name": "stdout",
     "output_type": "stream",
     "text": [
      "epoch 1 almost done\n",
      "Epoch 064 | Learning rate 0.000016 | train normalized MSE  12.6043 | val normalized MSE  13.6644, | val MAE   1.2202 | val MSE   7.2749\n"
     ]
    },
    {
     "name": "stderr",
     "output_type": "stream",
     "text": [
      "Epoch:  66%|██████▌   | 66/100 [57:45<30:03, 53.04s/epoch]"
     ]
    },
    {
     "name": "stdout",
     "output_type": "stream",
     "text": [
      "epoch 1 almost done\n",
      "Epoch 065 | Learning rate 0.000016 | train normalized MSE  12.5992 | val normalized MSE  13.6582, | val MAE   1.2130 | val MSE   7.2674\n"
     ]
    },
    {
     "name": "stderr",
     "output_type": "stream",
     "text": [
      "Epoch:  67%|██████▋   | 67/100 [58:38<29:07, 52.94s/epoch]"
     ]
    },
    {
     "name": "stdout",
     "output_type": "stream",
     "text": [
      "epoch 1 almost done\n",
      "Epoch 066 | Learning rate 0.000016 | train normalized MSE  12.6538 | val normalized MSE  13.7019, | val MAE   1.2235 | val MSE   7.2952\n"
     ]
    },
    {
     "name": "stderr",
     "output_type": "stream",
     "text": [
      "Epoch:  68%|██████▊   | 68/100 [59:31<28:14, 52.96s/epoch]"
     ]
    },
    {
     "name": "stdout",
     "output_type": "stream",
     "text": [
      "epoch 1 almost done\n",
      "Epoch 067 | Learning rate 0.000016 | train normalized MSE  12.5909 | val normalized MSE  13.5452, | val MAE   1.2074 | val MSE   7.2057\n"
     ]
    },
    {
     "name": "stderr",
     "output_type": "stream",
     "text": [
      "Epoch:  69%|██████▉   | 69/100 [1:00:24<27:18, 52.84s/epoch]"
     ]
    },
    {
     "name": "stdout",
     "output_type": "stream",
     "text": [
      "epoch 1 almost done\n",
      "Epoch 068 | Learning rate 0.000016 | train normalized MSE  12.5571 | val normalized MSE  13.4475, | val MAE   1.2114 | val MSE   7.1529\n"
     ]
    },
    {
     "name": "stderr",
     "output_type": "stream",
     "text": [
      "Epoch:  70%|███████   | 70/100 [1:01:17<26:31, 53.05s/epoch]"
     ]
    },
    {
     "name": "stdout",
     "output_type": "stream",
     "text": [
      "epoch 1 almost done\n",
      "Epoch 069 | Learning rate 0.000008 | train normalized MSE  12.6733 | val normalized MSE  13.4753, | val MAE   1.2045 | val MSE   7.1706\n"
     ]
    },
    {
     "name": "stderr",
     "output_type": "stream",
     "text": [
      "Epoch:  71%|███████   | 71/100 [1:02:10<25:38, 53.04s/epoch]"
     ]
    },
    {
     "name": "stdout",
     "output_type": "stream",
     "text": [
      "epoch 1 almost done\n",
      "Epoch 070 | Learning rate 0.000008 | train normalized MSE  12.5097 | val normalized MSE  13.3972, | val MAE   1.2035 | val MSE   7.1282\n"
     ]
    },
    {
     "name": "stderr",
     "output_type": "stream",
     "text": [
      "Epoch:  72%|███████▏  | 72/100 [1:03:03<24:43, 52.99s/epoch]"
     ]
    },
    {
     "name": "stdout",
     "output_type": "stream",
     "text": [
      "epoch 1 almost done\n",
      "Epoch 071 | Learning rate 0.000008 | train normalized MSE  12.5842 | val normalized MSE  13.4929, | val MAE   1.2114 | val MSE   7.1766\n"
     ]
    },
    {
     "name": "stderr",
     "output_type": "stream",
     "text": [
      "Epoch:  73%|███████▎  | 73/100 [1:03:57<23:55, 53.15s/epoch]"
     ]
    },
    {
     "name": "stdout",
     "output_type": "stream",
     "text": [
      "epoch 1 almost done\n",
      "Epoch 072 | Learning rate 0.000008 | train normalized MSE  12.4635 | val normalized MSE  13.5475, | val MAE   1.2124 | val MSE   7.2083\n"
     ]
    },
    {
     "name": "stderr",
     "output_type": "stream",
     "text": [
      "Epoch:  74%|███████▍  | 74/100 [1:04:50<23:03, 53.22s/epoch]"
     ]
    },
    {
     "name": "stdout",
     "output_type": "stream",
     "text": [
      "epoch 1 almost done\n",
      "Epoch 073 | Learning rate 0.000008 | train normalized MSE  12.5523 | val normalized MSE  13.3739, | val MAE   1.2026 | val MSE   7.1146\n"
     ]
    },
    {
     "name": "stderr",
     "output_type": "stream",
     "text": [
      "Epoch:  75%|███████▌  | 75/100 [1:05:43<22:11, 53.28s/epoch]"
     ]
    },
    {
     "name": "stdout",
     "output_type": "stream",
     "text": [
      "epoch 1 almost done\n",
      "Epoch 074 | Learning rate 0.000008 | train normalized MSE  12.5564 | val normalized MSE  13.5129, | val MAE   1.2145 | val MSE   7.1882\n"
     ]
    },
    {
     "name": "stderr",
     "output_type": "stream",
     "text": [
      "Epoch:  76%|███████▌  | 76/100 [1:06:37<21:20, 53.34s/epoch]"
     ]
    },
    {
     "name": "stdout",
     "output_type": "stream",
     "text": [
      "epoch 1 almost done\n",
      "Epoch 075 | Learning rate 0.000008 | train normalized MSE  12.5017 | val normalized MSE  13.5000, | val MAE   1.2041 | val MSE   7.1831\n"
     ]
    },
    {
     "name": "stderr",
     "output_type": "stream",
     "text": [
      "Epoch:  77%|███████▋  | 77/100 [1:07:30<20:25, 53.27s/epoch]"
     ]
    },
    {
     "name": "stdout",
     "output_type": "stream",
     "text": [
      "epoch 1 almost done\n",
      "Epoch 076 | Learning rate 0.000008 | train normalized MSE  12.4407 | val normalized MSE  13.4788, | val MAE   1.2022 | val MSE   7.1696\n"
     ]
    },
    {
     "name": "stderr",
     "output_type": "stream",
     "text": [
      "Epoch:  78%|███████▊  | 78/100 [1:08:22<19:21, 52.79s/epoch]"
     ]
    },
    {
     "name": "stdout",
     "output_type": "stream",
     "text": [
      "epoch 1 almost done\n",
      "Epoch 077 | Learning rate 0.000008 | train normalized MSE  12.5094 | val normalized MSE  13.4541, | val MAE   1.2129 | val MSE   7.1538\n"
     ]
    },
    {
     "name": "stderr",
     "output_type": "stream",
     "text": [
      "Epoch:  79%|███████▉  | 79/100 [1:09:14<18:23, 52.54s/epoch]"
     ]
    },
    {
     "name": "stdout",
     "output_type": "stream",
     "text": [
      "epoch 1 almost done\n",
      "Epoch 078 | Learning rate 0.000008 | train normalized MSE  12.5160 | val normalized MSE  13.4376, | val MAE   1.2101 | val MSE   7.1480\n"
     ]
    },
    {
     "name": "stderr",
     "output_type": "stream",
     "text": [
      "Epoch:  80%|████████  | 80/100 [1:10:05<17:24, 52.23s/epoch]"
     ]
    },
    {
     "name": "stdout",
     "output_type": "stream",
     "text": [
      "epoch 1 almost done\n",
      "Epoch 079 | Learning rate 0.000004 | train normalized MSE  12.4756 | val normalized MSE  13.5334, | val MAE   1.2087 | val MSE   7.1998\n"
     ]
    },
    {
     "name": "stderr",
     "output_type": "stream",
     "text": [
      "Epoch:  81%|████████  | 81/100 [1:10:58<16:34, 52.36s/epoch]"
     ]
    },
    {
     "name": "stdout",
     "output_type": "stream",
     "text": [
      "epoch 1 almost done\n",
      "Epoch 080 | Learning rate 0.000004 | train normalized MSE  12.3296 | val normalized MSE  13.5298, | val MAE   1.2084 | val MSE   7.1970\n"
     ]
    },
    {
     "name": "stderr",
     "output_type": "stream",
     "text": [
      "Epoch:  82%|████████▏ | 82/100 [1:11:50<15:42, 52.34s/epoch]"
     ]
    },
    {
     "name": "stdout",
     "output_type": "stream",
     "text": [
      "epoch 1 almost done\n",
      "Epoch 081 | Learning rate 0.000004 | train normalized MSE  12.3410 | val normalized MSE  13.4692, | val MAE   1.2019 | val MSE   7.1619\n"
     ]
    },
    {
     "name": "stderr",
     "output_type": "stream",
     "text": [
      "Epoch:  83%|████████▎ | 83/100 [1:12:42<14:49, 52.32s/epoch]"
     ]
    },
    {
     "name": "stdout",
     "output_type": "stream",
     "text": [
      "epoch 1 almost done\n",
      "Epoch 082 | Learning rate 0.000004 | train normalized MSE  12.3747 | val normalized MSE  13.5397, | val MAE   1.2069 | val MSE   7.2045\n"
     ]
    },
    {
     "name": "stderr",
     "output_type": "stream",
     "text": [
      "Epoch:  84%|████████▍ | 84/100 [1:13:35<13:57, 52.36s/epoch]"
     ]
    },
    {
     "name": "stdout",
     "output_type": "stream",
     "text": [
      "epoch 1 almost done\n",
      "Epoch 083 | Learning rate 0.000004 | train normalized MSE  12.4580 | val normalized MSE  13.5220, | val MAE   1.2063 | val MSE   7.1967\n"
     ]
    },
    {
     "name": "stderr",
     "output_type": "stream",
     "text": [
      "Epoch:  85%|████████▌ | 85/100 [1:14:28<13:07, 52.49s/epoch]"
     ]
    },
    {
     "name": "stdout",
     "output_type": "stream",
     "text": [
      "epoch 1 almost done\n",
      "Epoch 084 | Learning rate 0.000002 | train normalized MSE  12.5080 | val normalized MSE  13.4886, | val MAE   1.2037 | val MSE   7.1778\n"
     ]
    },
    {
     "name": "stderr",
     "output_type": "stream",
     "text": [
      "Epoch:  86%|████████▌ | 86/100 [1:15:21<12:17, 52.69s/epoch]"
     ]
    },
    {
     "name": "stdout",
     "output_type": "stream",
     "text": [
      "epoch 1 almost done\n",
      "Epoch 085 | Learning rate 0.000002 | train normalized MSE  12.4003 | val normalized MSE  13.5173, | val MAE   1.2066 | val MSE   7.1935\n"
     ]
    },
    {
     "name": "stderr",
     "output_type": "stream",
     "text": [
      "Epoch:  87%|████████▋ | 87/100 [1:16:14<11:27, 52.87s/epoch]"
     ]
    },
    {
     "name": "stdout",
     "output_type": "stream",
     "text": [
      "epoch 1 almost done\n",
      "Epoch 086 | Learning rate 0.000002 | train normalized MSE  12.4944 | val normalized MSE  13.4839, | val MAE   1.2026 | val MSE   7.1738\n"
     ]
    },
    {
     "name": "stderr",
     "output_type": "stream",
     "text": [
      "Epoch:  88%|████████▊ | 88/100 [1:17:07<10:32, 52.73s/epoch]"
     ]
    },
    {
     "name": "stdout",
     "output_type": "stream",
     "text": [
      "epoch 1 almost done\n",
      "Epoch 087 | Learning rate 0.000002 | train normalized MSE  12.5519 | val normalized MSE  13.4839, | val MAE   1.2049 | val MSE   7.1756\n"
     ]
    },
    {
     "name": "stderr",
     "output_type": "stream",
     "text": [
      "Epoch:  89%|████████▉ | 89/100 [1:17:59<09:38, 52.56s/epoch]"
     ]
    },
    {
     "name": "stdout",
     "output_type": "stream",
     "text": [
      "epoch 1 almost done\n",
      "Epoch 088 | Learning rate 0.000002 | train normalized MSE  12.3706 | val normalized MSE  13.4918, | val MAE   1.2068 | val MSE   7.1807\n"
     ]
    },
    {
     "name": "stderr",
     "output_type": "stream",
     "text": [
      "Epoch:  90%|█████████ | 90/100 [1:18:52<08:46, 52.65s/epoch]"
     ]
    },
    {
     "name": "stdout",
     "output_type": "stream",
     "text": [
      "epoch 1 almost done\n",
      "Epoch 089 | Learning rate 0.000001 | train normalized MSE  12.4852 | val normalized MSE  13.4685, | val MAE   1.2037 | val MSE   7.1646\n"
     ]
    },
    {
     "name": "stderr",
     "output_type": "stream",
     "text": [
      "Epoch:  91%|█████████ | 91/100 [1:19:43<07:51, 52.43s/epoch]"
     ]
    },
    {
     "name": "stdout",
     "output_type": "stream",
     "text": [
      "epoch 1 almost done\n",
      "Epoch 090 | Learning rate 0.000001 | train normalized MSE  12.3814 | val normalized MSE  13.4711, | val MAE   1.2032 | val MSE   7.1681\n"
     ]
    },
    {
     "name": "stderr",
     "output_type": "stream",
     "text": [
      "Epoch:  92%|█████████▏| 92/100 [1:20:35<06:58, 52.27s/epoch]"
     ]
    },
    {
     "name": "stdout",
     "output_type": "stream",
     "text": [
      "epoch 1 almost done\n",
      "Epoch 091 | Learning rate 0.000001 | train normalized MSE  12.4991 | val normalized MSE  13.4598, | val MAE   1.2030 | val MSE   7.1628\n"
     ]
    },
    {
     "name": "stderr",
     "output_type": "stream",
     "text": [
      "Epoch:  93%|█████████▎| 93/100 [1:21:28<06:06, 52.31s/epoch]"
     ]
    },
    {
     "name": "stdout",
     "output_type": "stream",
     "text": [
      "epoch 1 almost done\n",
      "Epoch 092 | Learning rate 0.000001 | train normalized MSE  12.4043 | val normalized MSE  13.4616, | val MAE   1.2033 | val MSE   7.1632\n"
     ]
    },
    {
     "name": "stderr",
     "output_type": "stream",
     "text": [
      "Epoch:  94%|█████████▍| 94/100 [1:22:21<05:15, 52.50s/epoch]"
     ]
    },
    {
     "name": "stdout",
     "output_type": "stream",
     "text": [
      "epoch 1 almost done\n",
      "Epoch 093 | Learning rate 0.000001 | train normalized MSE  12.3183 | val normalized MSE  13.4566, | val MAE   1.2019 | val MSE   7.1612\n"
     ]
    },
    {
     "name": "stderr",
     "output_type": "stream",
     "text": [
      "Epoch:  95%|█████████▌| 95/100 [1:23:14<04:23, 52.69s/epoch]"
     ]
    },
    {
     "name": "stdout",
     "output_type": "stream",
     "text": [
      "epoch 1 almost done\n",
      "Epoch 094 | Learning rate 0.000000 | train normalized MSE  12.3894 | val normalized MSE  13.4524, | val MAE   1.2023 | val MSE   7.1583\n"
     ]
    },
    {
     "name": "stderr",
     "output_type": "stream",
     "text": [
      "Epoch:  96%|█████████▌| 96/100 [1:24:07<03:31, 52.84s/epoch]"
     ]
    },
    {
     "name": "stdout",
     "output_type": "stream",
     "text": [
      "epoch 1 almost done\n",
      "Epoch 095 | Learning rate 0.000000 | train normalized MSE  12.4390 | val normalized MSE  13.4543, | val MAE   1.2032 | val MSE   7.1582\n"
     ]
    },
    {
     "name": "stderr",
     "output_type": "stream",
     "text": [
      "Epoch:  97%|█████████▋| 97/100 [1:25:00<02:38, 52.80s/epoch]"
     ]
    },
    {
     "name": "stdout",
     "output_type": "stream",
     "text": [
      "epoch 1 almost done\n",
      "Epoch 096 | Learning rate 0.000000 | train normalized MSE  12.3619 | val normalized MSE  13.4489, | val MAE   1.2029 | val MSE   7.1558\n"
     ]
    },
    {
     "name": "stderr",
     "output_type": "stream",
     "text": [
      "Epoch:  98%|█████████▊| 98/100 [1:25:53<01:45, 52.90s/epoch]"
     ]
    },
    {
     "name": "stdout",
     "output_type": "stream",
     "text": [
      "epoch 1 almost done\n",
      "Epoch 097 | Learning rate 0.000000 | train normalized MSE  12.4232 | val normalized MSE  13.4529, | val MAE   1.2029 | val MSE   7.1586\n"
     ]
    },
    {
     "name": "stderr",
     "output_type": "stream",
     "text": [
      "Epoch:  99%|█████████▉| 99/100 [1:26:46<00:52, 52.82s/epoch]"
     ]
    },
    {
     "name": "stdout",
     "output_type": "stream",
     "text": [
      "epoch 1 almost done\n",
      "Epoch 098 | Learning rate 0.000000 | train normalized MSE  12.3710 | val normalized MSE  13.4496, | val MAE   1.2027 | val MSE   7.1560\n"
     ]
    },
    {
     "name": "stderr",
     "output_type": "stream",
     "text": [
      "Epoch: 100%|██████████| 100/100 [1:27:39<00:00, 52.59s/epoch]"
     ]
    },
    {
     "name": "stdout",
     "output_type": "stream",
     "text": [
      "epoch 1 almost done\n",
      "Epoch 099 | Learning rate 0.000000 | train normalized MSE  12.3581 | val normalized MSE  13.4495, | val MAE   1.2025 | val MSE   7.1560\n"
     ]
    },
    {
     "name": "stderr",
     "output_type": "stream",
     "text": [
      "\n"
     ]
    }
   ],
   "source": [
    "#torch.cuda.empty_cache()\n",
    "for epoch in tqdm.tqdm(range(100), desc=\"Epoch\", unit=\"epoch\"):\n",
    "    # ---- Training ----\n",
    "    model.train()\n",
    "    train_loss = 0\n",
    "    for batch in train_dataloader:\n",
    "        batch = batch.to(device)\n",
    "        pred = model(batch)\n",
    "        y = batch.y.view(batch.num_graphs, 60, 2)\n",
    "        loss, raw_loss, world_loss, fde = combined_loss_fn(pred, y, batch)\n",
    "        optimizer.zero_grad()\n",
    "        loss.backward()\n",
    "        torch.nn.utils.clip_grad_norm_(model.parameters(), 5.0)\n",
    "        optimizer.step()\n",
    "        train_loss += loss.item()\n",
    "    \n",
    "    # ---- Validation ----\n",
    "    model.eval()\n",
    "    val_loss = 0\n",
    "    val_mae = 0\n",
    "    val_mse = 0\n",
    "    with torch.no_grad():\n",
    "        for batch in val_dataloader:\n",
    "            batch = batch.to(device)\n",
    "            pred = model(batch)\n",
    "            y = batch.y.view(batch.num_graphs, 60, 2)\n",
    "            \n",
    "            combined_val_loss, _, _, _ = combined_loss_fn(pred, y, batch)\n",
    "            val_loss += combined_val_loss.item()\n",
    "\n",
    "            # show MAE and MSE with unnormalized data\n",
    "            pred = pred * batch.scale.view(-1, 1, 1) + batch.origin.unsqueeze(1)\n",
    "            y = y * batch.scale.view(-1, 1, 1) + batch.origin.unsqueeze(1)\n",
    "            val_mae += nn.L1Loss()(pred, y).item()\n",
    "            val_mse += nn.MSELoss()(pred, y).item()\n",
    "    \n",
    "    train_loss /= len(train_dataloader)\n",
    "    val_loss /= len(val_dataloader)\n",
    "    val_mae /= len(val_dataloader)\n",
    "    val_mse /= len(val_dataloader)\n",
    "    scheduler.step()\n",
    "    # scheduler.step(val_loss)\n",
    "    print(\"epoch 1 almost done\")\n",
    "    \n",
    "    tqdm.tqdm.write(f\"Epoch {epoch:03d} | Learning rate {optimizer.param_groups[0]['lr']:.6f} | train normalized MSE {train_loss:8.4f} | val normalized MSE {val_loss:8.4f}, | val MAE {val_mae:8.4f} | val MSE {val_mse:8.4f}\")\n",
    "    if val_loss < best_val_loss - 1e-3:\n",
    "        best_val_loss = val_loss\n",
    "        no_improvement = 0\n",
    "        torch.save(model.state_dict(), \"best_model.pt\")\n",
    "    else:\n",
    "        no_improvement += 1\n",
    "        if no_improvement >= early_stopping_patience:\n",
    "            no_improvement = 0\n",
    "            optimizer.param_groups[0]['lr'] /= 2\n",
    "            # print(\"Early stop!\")\n",
    "            # break"
   ]
  },
  {
   "cell_type": "code",
   "execution_count": 14,
   "id": "6e666e43",
   "metadata": {
    "execution": {
     "iopub.execute_input": "2025-06-02T03:46:03.306743Z",
     "iopub.status.busy": "2025-06-02T03:46:03.306506Z",
     "iopub.status.idle": "2025-06-02T03:46:08.243629Z",
     "shell.execute_reply": "2025-06-02T03:46:08.243030Z"
    },
    "papermill": {
     "duration": 4.961397,
     "end_time": "2025-06-02T03:46:08.244951",
     "exception": false,
     "start_time": "2025-06-02T03:46:03.283554",
     "status": "completed"
    },
    "tags": []
   },
   "outputs": [],
   "source": [
    "test_dataset = TrajectoryDatasetTest(test_data, scale=scale)\n",
    "test_loader = DataLoader(test_dataset, batch_size=32, shuffle=False,\n",
    "                         collate_fn=lambda xs: Batch.from_data_list(xs))\n",
    "\n",
    "best_model = torch.load(\"best_model.pt\")\n",
    "#model = LinearRegressionModel().to(device)\n",
    "# model = MLP(50 * 50 * 6, 60 * 2).to(device)\n",
    "model = AgentAwarePredictor().to(device)\n",
    "\n",
    "model.load_state_dict(best_model)\n",
    "model.eval()\n",
    "\n",
    "pred_list = []\n",
    "with torch.no_grad():\n",
    "    for batch in test_loader:\n",
    "        batch = batch.to(device)\n",
    "        pred_norm = model(batch)\n",
    "        \n",
    "        # Reshape the prediction to (N, 60, 2)\n",
    "        pred = pred_norm * batch.scale.view(-1,1,1) + batch.origin.unsqueeze(1)\n",
    "        pred_list.append(pred.cpu().numpy())\n",
    "pred_list = np.concatenate(pred_list, axis=0)  # (N,60,2)\n",
    "pred_output = pred_list.reshape(-1, 2)  # (N*60, 2)\n",
    "output_df = pd.DataFrame(pred_output, columns=['x', 'y'])\n",
    "output_df.index.name = 'index'\n",
    "output_df.to_csv('submission.csv', index=True, float_format='%.8f')"
   ]
  }
 ],
 "metadata": {
  "kaggle": {
   "accelerator": "gpu",
   "dataSources": [
    {
     "datasetId": 7378490,
     "sourceId": 11753202,
     "sourceType": "datasetVersion"
    },
    {
     "datasetId": 7491499,
     "sourceId": 11916665,
     "sourceType": "datasetVersion"
    }
   ],
   "dockerImageVersionId": 31041,
   "isGpuEnabled": true,
   "isInternetEnabled": true,
   "language": "python",
   "sourceType": "notebook"
  },
  "kernelspec": {
   "display_name": "Python 3",
   "language": "python",
   "name": "python3"
  },
  "language_info": {
   "codemirror_mode": {
    "name": "ipython",
    "version": 3
   },
   "file_extension": ".py",
   "mimetype": "text/x-python",
   "name": "python",
   "nbconvert_exporter": "python",
   "pygments_lexer": "ipython3",
   "version": "3.11.11"
  },
  "papermill": {
   "default_parameters": {},
   "duration": 5310.502344,
   "end_time": "2025-06-02T03:46:11.659537",
   "environment_variables": {},
   "exception": null,
   "input_path": "__notebook__.ipynb",
   "output_path": "__notebook__.ipynb",
   "parameters": {},
   "start_time": "2025-06-02T02:17:41.157193",
   "version": "2.6.0"
  }
 },
 "nbformat": 4,
 "nbformat_minor": 5
}
